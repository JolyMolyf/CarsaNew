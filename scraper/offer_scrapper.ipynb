{
 "cells": [
  {
   "cell_type": "code",
   "execution_count": 1,
   "metadata": {},
   "outputs": [],
   "source": [
    "from webdriver_manager.firefox import GeckoDriverManager\n",
    "from selenium import webdriver\n",
    "from selenium.webdriver.firefox.service import Service\n",
    "from selenium.webdriver.common.by import By\n",
    "from selenium.webdriver.support.ui import WebDriverWait\n",
    "from selenium.webdriver.support import expected_conditions as EC"
   ]
  },
  {
   "cell_type": "code",
   "execution_count": 2,
   "metadata": {},
   "outputs": [],
   "source": [
    "import time"
   ]
  },
  {
   "cell_type": "code",
   "execution_count": 3,
   "metadata": {},
   "outputs": [
    {
     "name": "stderr",
     "output_type": "stream",
     "text": [
      "\n",
      "\n",
      "====== WebDriver manager ======\n",
      "Current firefox version is 95.0\n",
      "Get LATEST geckodriver version for 95.0 firefox\n",
      "Getting latest mozilla release info for v0.30.0\n",
      "Trying to download new driver from https://github.com/mozilla/geckodriver/releases/download/v0.30.0/geckodriver-v0.30.0-macos.tar.gz\n",
      "Driver has been saved in cache [/Users/denys_kryzhanivskyi/.wdm/drivers/geckodriver/macos/v0.30.0]\n"
     ]
    }
   ],
   "source": [
    "s = Service(GeckoDriverManager().install())\n",
    "driver = webdriver.Firefox(service=s)\n",
    "driver.get(\"https://www.otomoto.pl/oferta/ford-fusion-titanium-ford-fusion-mondeo-mk5-ID6EiRyN.html\")"
   ]
  },
  {
   "cell_type": "code",
   "execution_count": 4,
   "metadata": {},
   "outputs": [],
   "source": [
    "# close accept privacy\n",
    "try:\n",
    "    WebDriverWait(driver, 5).until(\n",
    "                EC.presence_of_element_located((By.CSS_SELECTOR, \"button#onetrust-accept-btn-handler\"))).click()\n",
    "except:\n",
    "    pass"
   ]
  },
  {
   "cell_type": "markdown",
   "metadata": {},
   "source": [
    "# Getting value by attribute label"
   ]
  },
  {
   "cell_type": "code",
   "execution_count": 36,
   "metadata": {},
   "outputs": [],
   "source": [
    "def getAttributeValue(root_element, attr_label):\n",
    "    label = root_element.find_element(By.XPATH, f'//span[text()=\"{attr_label}\"]')\n",
    "    wrapper = label.find_element(By.XPATH, '..')\n",
    "    attr_value = wrapper.find_element(By.CSS_SELECTOR, '*.offer-params__value').text\n",
    "    \n",
    "    return attr_value"
   ]
  },
  {
   "cell_type": "markdown",
   "metadata": {},
   "source": [
    "# Getting list of images"
   ]
  },
  {
   "cell_type": "code",
   "execution_count": 74,
   "metadata": {},
   "outputs": [],
   "source": [
    "def getImgSrcs():\n",
    "    img_wrapper = WebDriverWait(driver, 5).until(\n",
    "        EC.visibility_of_element_located((By.CSS_SELECTOR, 'div.slick-track')))\n",
    "    \n",
    "    images = img_wrapper.find_elements(By.CSS_SELECTOR, 'div.slick-slide')\n",
    "    \n",
    "    for index, img in enumerate(images):\n",
    "        tmp = img.find_element(By.TAG_NAME, 'img').get_attribute('src')\n",
    "        images[index] = tmp if tmp else img.find_element(By.TAG_NAME, 'img').get_attribute('data-lazy')\n",
    "    \n",
    "    return images"
   ]
  },
  {
   "cell_type": "code",
   "execution_count": 85,
   "metadata": {},
   "outputs": [
    {
     "data": {
      "text/plain": [
       "{'brand': 'Ford',\n",
       " 'model': 'Fusion',\n",
       " 'type': 'Sedan',\n",
       " 'year': '2013',\n",
       " 'power': '241 KM',\n",
       " 'fuel_type': 'Benzyna',\n",
       " 'mileage': '261 000 km',\n",
       " 'engine_volume': '1 999 cm3',\n",
       " 'color': 'Szary',\n",
       " 'description': 'Sprowadzony ze stanów sam go kupiłem bez pośredników,firm itp.Był delikatnie uszkodzony w przednie prawe zawieszenie,błotnik i pęknięty zderzak.Wszystkie części do naprawy kupiłem w Polsce. Po 2 tyg od zarejestrowania nie z mojej winy został przerysowany (przedni błotnik i drzwi) Dobrze się prowadzi jest wygodny.Kupiłem w usa dodge rama dla tego forda sprzedaje.Do odbioru w Skwierzynie 23km od Gorzowa Wielkopolskiego przy zjedzie z trasy S3.Jest to wersja titanium!Samochód zarejestrowany ubezpieczony od 2 miesięcy w Polsce.',\n",
       " 'images': ['https://ireland.apollo.olxcdn.com/v1/files/eyJmbiI6IjVxanhqOTN6ZzRtYi1PVE9NT1RPUEwiLCJ3IjpbeyJmbiI6IndnNGducXA2eTFmLU9UT01PVE9QTCIsInMiOiIxNiIsInAiOiIxMCwtMTAiLCJhIjoiMCJ9XX0.s0XD8GXGNugb1FECDBLndq6Zo-9iPYBNJl45vZxY33A/image;s=1080x720',\n",
       "  'https://ireland.apollo.olxcdn.com/v1/files/eyJmbiI6ImpieGpqNWIwbHp5YjEtT1RPTU9UT1BMIiwidyI6W3siZm4iOiJ3ZzRnbnFwNnkxZi1PVE9NT1RPUEwiLCJzIjoiMTYiLCJwIjoiMTAsLTEwIiwiYSI6IjAifV19.SlPoqRwxZ67aSoHw5CjZrxuuatf-rzsoA6jIzALMRCI/image;s=1080x720',\n",
       "  'https://ireland.apollo.olxcdn.com/v1/files/eyJmbiI6InVxenJ6dHJybzd5YzMtT1RPTU9UT1BMIiwidyI6W3siZm4iOiJ3ZzRnbnFwNnkxZi1PVE9NT1RPUEwiLCJzIjoiMTYiLCJwIjoiMTAsLTEwIiwiYSI6IjAifV19.vUk0cA7DmZEfKVn7UivPdvtAm-UawPEhH631EubNmzQ/image;s=1080x720',\n",
       "  'https://ireland.apollo.olxcdn.com/v1/files/eyJmbiI6IjUzem03ajRrdzlhczEtT1RPTU9UT1BMIiwidyI6W3siZm4iOiJ3ZzRnbnFwNnkxZi1PVE9NT1RPUEwiLCJzIjoiMTYiLCJwIjoiMTAsLTEwIiwiYSI6IjAifV19.wlbIYWQvIdBeaV-gXVLcyslt-JE_wrGQLNjQqBQCvqY/image;s=1080x720',\n",
       "  'https://ireland.apollo.olxcdn.com/v1/files/eyJmbiI6Ink2eDczYjJ6NDh3aDEtT1RPTU9UT1BMIiwidyI6W3siZm4iOiJ3ZzRnbnFwNnkxZi1PVE9NT1RPUEwiLCJzIjoiMTYiLCJwIjoiMTAsLTEwIiwiYSI6IjAifV19.ceG2Xqa6D50D7rWJ2wFDzP7PtrLk2VZNvC8DJ21FDHU/image;s=1080x720',\n",
       "  'https://ireland.apollo.olxcdn.com/v1/files/eyJmbiI6IjVzMmMzMnh4MXZ4MzMtT1RPTU9UT1BMIiwidyI6W3siZm4iOiJ3ZzRnbnFwNnkxZi1PVE9NT1RPUEwiLCJzIjoiMTYiLCJwIjoiMTAsLTEwIiwiYSI6IjAifV19.7o47Ky6KznzWN5yogHobcRmbG8PiGRR_ITmoR6g0Wx0/image;s=1080x720',\n",
       "  'https://ireland.apollo.olxcdn.com/v1/files/eyJmbiI6ImczNWJzOXl4cTA2dTItT1RPTU9UT1BMIiwidyI6W3siZm4iOiJ3ZzRnbnFwNnkxZi1PVE9NT1RPUEwiLCJzIjoiMTYiLCJwIjoiMTAsLTEwIiwiYSI6IjAifV19.ds_OwXp4eIm_1i-ywe5GJdMILtc2FzYsRUWxDCsMCrQ/image;s=1080x720',\n",
       "  'https://ireland.apollo.olxcdn.com/v1/files/eyJmbiI6ImgxZ2tjcm1rd2V6ZDMtT1RPTU9UT1BMIiwidyI6W3siZm4iOiJ3ZzRnbnFwNnkxZi1PVE9NT1RPUEwiLCJzIjoiMTYiLCJwIjoiMTAsLTEwIiwiYSI6IjAifV19.MndPQ_kf-qJn0hK-6dW1dMnlgZgAE93xrdZ-CPHj_BM/image;s=1080x720',\n",
       "  'https://ireland.apollo.olxcdn.com/v1/files/eyJmbiI6IjA1djN4aXNrNnh1NzItT1RPTU9UT1BMIiwidyI6W3siZm4iOiJ3ZzRnbnFwNnkxZi1PVE9NT1RPUEwiLCJzIjoiMTYiLCJwIjoiMTAsLTEwIiwiYSI6IjAifV19.KLj2VDVPh3lZCXpxKRo5LW3K5SIO3D_Hc-cqr3jusoM/image;s=1080x720',\n",
       "  'https://ireland.apollo.olxcdn.com/v1/files/eyJmbiI6InpyMWx4N3V0eTk2ajMtT1RPTU9UT1BMIiwidyI6W3siZm4iOiJ3ZzRnbnFwNnkxZi1PVE9NT1RPUEwiLCJzIjoiMTYiLCJwIjoiMTAsLTEwIiwiYSI6IjAifV19.rChVMH9BCMUXd5peB0tXZvMZrk0Xk1pDkzyLlct9_3w/image;s=1080x720',\n",
       "  'https://ireland.apollo.olxcdn.com/v1/files/eyJmbiI6ImlxdzdzdXdnd3hwbTMtT1RPTU9UT1BMIiwidyI6W3siZm4iOiJ3ZzRnbnFwNnkxZi1PVE9NT1RPUEwiLCJzIjoiMTYiLCJwIjoiMTAsLTEwIiwiYSI6IjAifV19.Mc0YUE_5KN9Bg3gX7wsKckM5_b-G_XZynN5y71JrN1U/image;s=1080x720',\n",
       "  'https://ireland.apollo.olxcdn.com/v1/files/eyJmbiI6InBpYWZiazlkN3M3YjItT1RPTU9UT1BMIiwidyI6W3siZm4iOiJ3ZzRnbnFwNnkxZi1PVE9NT1RPUEwiLCJzIjoiMTYiLCJwIjoiMTAsLTEwIiwiYSI6IjAifV19.owDO61PYoXotDsAncItegSUfzCu3sJds_PcONWO_5Sc/image;s=1080x720',\n",
       "  'https://ireland.apollo.olxcdn.com/v1/files/eyJmbiI6InNtNzE5MXlzcnRwbDItT1RPTU9UT1BMIiwidyI6W3siZm4iOiJ3ZzRnbnFwNnkxZi1PVE9NT1RPUEwiLCJzIjoiMTYiLCJwIjoiMTAsLTEwIiwiYSI6IjAifV19.GnR9nNgT7UCf55CMMCf5d817TRwCjFnhxlQOlbvp43w/image;s=1080x720',\n",
       "  'https://ireland.apollo.olxcdn.com/v1/files/eyJmbiI6InN4dWNqbTV3d3V2bTItT1RPTU9UT1BMIiwidyI6W3siZm4iOiJ3ZzRnbnFwNnkxZi1PVE9NT1RPUEwiLCJzIjoiMTYiLCJwIjoiMTAsLTEwIiwiYSI6IjAifV19.d2RUCN-W-kGhYpDpLbaMaC3YfT_gTPZbZThIfazlMds/image;s=1080x720',\n",
       "  'https://ireland.apollo.olxcdn.com/v1/files/eyJmbiI6InV6Nm0wMGs5MWY3Zy1PVE9NT1RPUEwiLCJ3IjpbeyJmbiI6IndnNGducXA2eTFmLU9UT01PVE9QTCIsInMiOiIxNiIsInAiOiIxMCwtMTAiLCJhIjoiMCJ9XX0.50Nn7KylyHOGbyUCYnt5NnrACPdfYIgUmT5kA8BTlAc/image;s=1080x720',\n",
       "  'https://ireland.apollo.olxcdn.com/v1/files/eyJmbiI6IjhvMG04cjcxb3kwajItT1RPTU9UT1BMIiwidyI6W3siZm4iOiJ3ZzRnbnFwNnkxZi1PVE9NT1RPUEwiLCJzIjoiMTYiLCJwIjoiMTAsLTEwIiwiYSI6IjAifV19.iRPDydLTB13d-w7PxS8Ff0R8C3FnTs29ReUPMT4Jx6w/image;s=1080x720',\n",
       "  'https://ireland.apollo.olxcdn.com/v1/files/eyJmbiI6ImN6NG02ZWhvZHlrMS1PVE9NT1RPUEwiLCJ3IjpbeyJmbiI6IndnNGducXA2eTFmLU9UT01PVE9QTCIsInMiOiIxNiIsInAiOiIxMCwtMTAiLCJhIjoiMCJ9XX0.fVbBurzC8lesRPKp-ZLLpCYKqPxa81jn3F71I-swYVE/image;s=1080x720',\n",
       "  'https://ireland.apollo.olxcdn.com/v1/files/eyJmbiI6IjdkMjBhbmxvY2l0aTEtT1RPTU9UT1BMIiwidyI6W3siZm4iOiJ3ZzRnbnFwNnkxZi1PVE9NT1RPUEwiLCJzIjoiMTYiLCJwIjoiMTAsLTEwIiwiYSI6IjAifV19.qQqfAiV477HcjiJl56MYvbMprq2X0aK14s-2c58etag/image;s=1080x720',\n",
       "  'https://ireland.apollo.olxcdn.com/v1/files/eyJmbiI6ImcxNTZjYzI3ZzdvNjEtT1RPTU9UT1BMIiwidyI6W3siZm4iOiJ3ZzRnbnFwNnkxZi1PVE9NT1RPUEwiLCJzIjoiMTYiLCJwIjoiMTAsLTEwIiwiYSI6IjAifV19.D5jNOaS_P9SGJHbhN8HQRBrrJZYlTzXa5mY9FWYBops/image;s=1080x720',\n",
       "  'https://ireland.apollo.olxcdn.com/v1/files/eyJmbiI6Ino3dWNrMmNlYjl4My1PVE9NT1RPUEwiLCJ3IjpbeyJmbiI6IndnNGducXA2eTFmLU9UT01PVE9QTCIsInMiOiIxNiIsInAiOiIxMCwtMTAiLCJhIjoiMCJ9XX0.89rwk6eiMUAiBLmE1hcYPPIhKzZbl_datGnU70kUx40/image;s=1080x720']}"
      ]
     },
     "execution_count": 85,
     "metadata": {},
     "output_type": "execute_result"
    }
   ],
   "source": [
    "offer_params = WebDriverWait(driver, 5).until(\n",
    "    EC.visibility_of_element_located((By.CSS_SELECTOR, 'div#parameters')))\n",
    "\n",
    "description = WebDriverWait(driver, 5).until(\n",
    "    EC.visibility_of_element_located((By.CSS_SELECTOR, 'div.offer-description__description'))).text\n",
    "\n",
    "# WebDriverWait(offer_params, 5).until(\n",
    "#             EC.text_to_be_present_in_element((By.CSS_SELECTOR, \"span.offer-params__label\"), \"Marka pojazdu\"))\n",
    "\n",
    "# brand_li = offer_params.find_element(\n",
    "#     By.XPATH, \".//li[contains(text(), '{}') and @class='offer-params__item']\".format('Marka pojazdu'))\n",
    "\n",
    "car_data = {\n",
    "    \"brand\": getAttributeValue(offer_params, 'Marka pojazdu'),\n",
    "    \"model\": getAttributeValue(offer_params, 'Model pojazdu'),\n",
    "    \"type\": getAttributeValue(offer_params, 'Typ nadwozia'),\n",
    "    \"year\": getAttributeValue(offer_params, 'Rok produkcji'),\n",
    "    \"power\": getAttributeValue(offer_params, 'Moc'),\n",
    "    \"fuel_type\": getAttributeValue(offer_params, 'Rodzaj paliwa'),\n",
    "    \"mileage\": getAttributeValue(offer_params, 'Przebieg'),\n",
    "    \"engine_volume\": getAttributeValue(offer_params, 'Pojemność skokowa'),\n",
    "    \"color\": getAttributeValue(offer_params, 'Kolor'),\n",
    "    \"description\": description,\n",
    "    \"images\": getImgSrcs(),\n",
    "}\n",
    "\n",
    "car_data"
   ]
  }
 ],
 "metadata": {
  "kernelspec": {
   "display_name": "Python 3",
   "language": "python",
   "name": "python3"
  },
  "language_info": {
   "codemirror_mode": {
    "name": "ipython",
    "version": 3
   },
   "file_extension": ".py",
   "mimetype": "text/x-python",
   "name": "python",
   "nbconvert_exporter": "python",
   "pygments_lexer": "ipython3",
   "version": "3.8.5"
  }
 },
 "nbformat": 4,
 "nbformat_minor": 4
}
